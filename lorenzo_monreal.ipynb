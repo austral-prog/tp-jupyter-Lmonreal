{
  "cells": [
    {
      "cell_type": "markdown",
      "metadata": {
        "id": "G7Oj_NEOwPtF"
      },
      "source": [
        "# Assignment\n",
        "\n",
        "The assignment will require you to complete cells, create new ones, and move around some cells. You need to familiarize yourself with the Jupyter notebook interface. You can find a tutorial [here](https://www.dataquest.io/blog/jupyter-notebook-tutorial/).\n"
      ]
    },
    {
      "cell_type": "markdown",
      "metadata": {
        "id": "4UFoOh5awPtK"
      },
      "source": [
        "---"
      ]
    },
    {
      "cell_type": "markdown",
      "metadata": {
        "id": "ntWJGoKjwPtI"
      },
      "source": [
        "# [EXERCISE 1]\n",
        "## Lorenzo Monreal. lmonreal@mail.austral.edu.ar\n",
        "![A cute picture of Jack Black](https://movies-b26f.kxcdn.com/wp-content/uploads/2024/09/jack-1024x1024.png \"a cute picture of Jack Black\")\n",
        "#####  Picture of Jack Black in the hit Blockbuster movie \"Minecraft\", 2025.\n"
      ]
    },
    {
      "cell_type": "markdown",
      "source": [
        "# [EXERCISE 2]"
      ],
      "metadata": {
        "id": "uP2beRwQ304Z"
      }
    },
    {
      "cell_type": "code",
      "source": [
        "# #[EXERCISE 2]\n",
        "#\n",
        "#1. CREATE A NEW CELL BELOW THIS ONE AND ADD A MARKDOWN TITLE (HEADING 1) WITH THE TEXT \"[EXERCISE 2]\"\n",
        "#\n",
        "#2. Create a new cell below the one with a markdown title of \"[EXERCISE 2]\" to solve the following exercise in python, it needs to be a CODE cell:\n",
        "#\n",
        "#    Write a function rectangle_area(width, height) that takes the width and height of a rectangle as input and returns its area.\n",
        "#\n",
        "#3. Add the instructions of the exercise as a comment in the code cell above the function definition.\n",
        "#4. DO NOT KEEP THE CELL WITH THESE INSTRUCTIONS.\n",
        "\n",
        "def rectangle_area(width, height):\n",
        "  return (width * height)\n"
      ],
      "metadata": {
        "id": "P1cTo2Iu4IXw"
      },
      "execution_count": null,
      "outputs": []
    },
    {
      "cell_type": "markdown",
      "source": [
        "# [EXERCISE 3]"
      ],
      "metadata": {
        "id": "7rUA4O0L5HyJ"
      }
    },
    {
      "cell_type": "code",
      "source": [
        "# [EXERCISE 3]\n",
        "\n",
        "#1. CREATE A NEW CELL BELOW THIS ONE AND ADD A MARKDOWN TITLE (HEADING 1) WITH THE TEXT \"[EXERCISE 3]\"\n",
        "#2. Use your created function to calculate the area of a rectangle with width 3 and height 4.\n",
        "# Another of width 5 and height 10, and another of width 8 and height 2.\n",
        "# Show your results in the same cell with a description of each result. Similar to this example:\n",
        "#\n",
        "#        `The area of a rectangle with width 3 and height 4 is 12.`\n",
        "#3. Add the instructions of the exercise as a comment in the code cell with the solution.\n",
        "#4. DO NOT KEEP THE CELL WITH THESE INSTRUCTIONS.\n",
        "\n",
        "print(f\"The area of a rectangle with width 3 and height 4 is {rectangle_area(3, 4)}.\")\n",
        "print(f\"The area of a rectangle with width 5 and height 10 is {rectangle_area(5, 10)}.\")\n",
        "print(f\"The area of a rectangle with width 8 and height 2 is {rectangle_area(8, 2)}.\")"
      ],
      "metadata": {
        "colab": {
          "base_uri": "https://localhost:8080/"
        },
        "id": "4EB61vw25k6U",
        "outputId": "40cae6bc-3312-4610-fdd7-d201565c2abb"
      },
      "execution_count": null,
      "outputs": [
        {
          "output_type": "stream",
          "name": "stdout",
          "text": [
            "The area of a rectangle with width 3 and height 4 is 12.\n",
            "The area of a rectangle with width 5 and height 10 is 50.\n",
            "The area of a rectangle with width 8 and height 2 is 16.\n"
          ]
        }
      ]
    },
    {
      "cell_type": "markdown",
      "source": [
        "# [EXERCISE 5]"
      ],
      "metadata": {
        "id": "_rh8nAu37srv"
      }
    },
    {
      "cell_type": "code",
      "source": [
        "from IPython.display import display, Markdown\n",
        "\n",
        "a = 3\n",
        "b = 7\n",
        "\n",
        "display(Markdown(\"# Sum\"))\n",
        "print(a + b)\n",
        "display(Markdown(\"# Subtraction\"))\n",
        "print(a - b)\n",
        "display(Markdown(\"# Multiplication\"))\n",
        "print(a * b)\n",
        "display(Markdown(\"# Division\"))\n",
        "print(a / b)"
      ],
      "metadata": {
        "colab": {
          "base_uri": "https://localhost:8080/",
          "height": 316
        },
        "id": "JM3qpLXX792A",
        "outputId": "21f2f651-130c-464b-aa61-2d4aae63711c"
      },
      "execution_count": null,
      "outputs": [
        {
          "output_type": "display_data",
          "data": {
            "text/plain": [
              "<IPython.core.display.Markdown object>"
            ],
            "text/markdown": "# Sum"
          },
          "metadata": {}
        },
        {
          "output_type": "stream",
          "name": "stdout",
          "text": [
            "10\n"
          ]
        },
        {
          "output_type": "display_data",
          "data": {
            "text/plain": [
              "<IPython.core.display.Markdown object>"
            ],
            "text/markdown": "# Subtraction"
          },
          "metadata": {}
        },
        {
          "output_type": "stream",
          "name": "stdout",
          "text": [
            "-4\n"
          ]
        },
        {
          "output_type": "display_data",
          "data": {
            "text/plain": [
              "<IPython.core.display.Markdown object>"
            ],
            "text/markdown": "# Multiplication"
          },
          "metadata": {}
        },
        {
          "output_type": "stream",
          "name": "stdout",
          "text": [
            "21\n"
          ]
        },
        {
          "output_type": "display_data",
          "data": {
            "text/plain": [
              "<IPython.core.display.Markdown object>"
            ],
            "text/markdown": "# Division"
          },
          "metadata": {}
        },
        {
          "output_type": "stream",
          "name": "stdout",
          "text": [
            "0.42857142857142855\n"
          ]
        }
      ]
    },
    {
      "cell_type": "code",
      "source": [
        "%%shell\n",
        "jupyter nbconvert --to html /content/lorenzo_monreal.ipynb"
      ],
      "metadata": {
        "colab": {
          "base_uri": "https://localhost:8080/"
        },
        "id": "1RQ4KRRK-0Vb",
        "outputId": "7b09c85a-236c-488f-e0bf-dc8e20d4ec33"
      },
      "execution_count": null,
      "outputs": [
        {
          "output_type": "stream",
          "name": "stdout",
          "text": [
            "[NbConvertApp] Converting notebook /content/lorenzo_monreal.ipynb to html\n",
            "[NbConvertApp] Writing 281721 bytes to /content/lorenzo_monreal.html\n"
          ]
        },
        {
          "output_type": "execute_result",
          "data": {
            "text/plain": []
          },
          "metadata": {},
          "execution_count": 17
        }
      ]
    }
  ],
  "metadata": {
    "kernelspec": {
      "display_name": "Python 3 (ipykernel)",
      "language": "python",
      "name": "python3"
    },
    "language_info": {
      "codemirror_mode": {
        "name": "ipython",
        "version": 3
      },
      "file_extension": ".py",
      "mimetype": "text/x-python",
      "name": "python",
      "nbconvert_exporter": "python",
      "pygments_lexer": "ipython3",
      "version": "3.12.2"
    },
    "colab": {
      "provenance": []
    }
  },
  "nbformat": 4,
  "nbformat_minor": 0
}